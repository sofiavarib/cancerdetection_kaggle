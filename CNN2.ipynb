{
 "cells": [
  {
   "cell_type": "markdown",
   "metadata": {},
   "source": [
    "# CNN2\n"
   ]
  },
  {
   "cell_type": "markdown",
   "metadata": {},
   "source": [
    "Convolutional neuronal network with three conv layers.\n",
    "\n",
    "First, we load the packages.\n",
    "\n"
   ]
  },
  {
   "cell_type": "code",
   "execution_count": 1,
   "metadata": {},
   "outputs": [],
   "source": [
    "import pandas as pd\n",
    "import numpy as np\n",
    "from PIL import Image    \n",
    "from sklearn.utils import shuffle\n",
    "import cv2\n",
    "import torch\n",
    "import torch.nn as nn\n",
    "import torch.nn.functional as F\n",
    "import torch.optim as optim\n",
    "from torch.autograd import Variable\n",
    "import matplotlib.pyplot as plt\n",
    "\n",
    "from sklearn.metrics import roc_auc_score\n",
    "from sklearn.metrics import roc_curve\n",
    "from matplotlib import pyplot\n",
    "\n",
    "from tqdm import tqdm_notebook"
   ]
  },
  {
   "cell_type": "markdown",
   "metadata": {},
   "source": [
    "Then, we divide the data in train and validation (0.9 and 0.1). Also,we define the read function."
   ]
  },
  {
   "cell_type": "code",
   "execution_count": 3,
   "metadata": {},
   "outputs": [],
   "source": [
    "data = pd.read_csv(\"newdata.csv\")\n",
    "data = shuffle(data)\n",
    "m = len(data)\n",
    "\n",
    "train = data[1:int(m*0.9)]\n",
    "val = data[(int(m*0.9) + 1):]\n",
    "\n",
    "m_train = len(train)\n",
    "m_val = len(val)\n",
    "\n",
    "path = \"train/\" + train.iloc[1][1]+ \".tif\"\n",
    "img = cv2.imread(path) \n",
    "h_s = np.shape(img)[0]\n",
    "v_s = np.shape(img)[1]\n",
    "n_c = np.shape(img)[2]\n",
    "def readimage(n_batch, n, X):\n",
    "    batch = []\n",
    "    for i in range(n):\n",
    "        path = \"train/\" + X.iloc[i+n*n_batch]['id']+ \".tif\"\n",
    "        img = cv2.imread(path) \n",
    "        img = cv2.cvtColor(img, cv2.COLOR_BGR2RGB)\n",
    "        batch.append(np.moveaxis(img, -1,0))\n",
    "        \n",
    "    return torch.tensor(np.array(batch)).float()"
   ]
  },
  {
   "cell_type": "markdown",
   "metadata": {},
   "source": [
    "Bath size: 29. <br>\n",
    "Kernels_i: (m_conv_i,m_conv_i,c_conv_i). <br>\n",
    "Stride of kernel: s_conv_i. <br>\n",
    "Pool layer: Avg. "
   ]
  },
  {
   "cell_type": "code",
   "execution_count": 4,
   "metadata": {},
   "outputs": [],
   "source": [
    "batchsize = 29\n",
    "n_batch = int(m_train / batchsize)\n",
    "\n",
    "n_batchval = int(m_val / batchsize)\n",
    "\n",
    "m_conv1 = 6 \n",
    "n_conv1 = 15\n",
    "s_conv1 = 2\n",
    "\n",
    "m_pool1 = 4\n",
    "s_pool1 = 1\n",
    "\n",
    "m_conv2 = 5\n",
    "n_conv2 = 20\n",
    "s_conv2 = 2\n",
    "\n",
    "m_pool2 = 4\n",
    "s_pool2 = 2\n",
    "\n",
    "m_conv3 = 3\n",
    "n_conv3 = 30\n",
    "\n",
    "m_pool3 = 3\n",
    "s_pool3 = 1\n",
    "\n",
    "m_conv4 = 3\n",
    "n_conv4 = 40\n",
    "\n",
    "m_pool4 = 2\n",
    "s_pool4 = 1\n",
    "\n",
    "m_fullyconnected = 2\n",
    "l_rate = 0.001\n"
   ]
  },
  {
   "cell_type": "markdown",
   "metadata": {},
   "source": [
    "Model: "
   ]
  },
  {
   "cell_type": "code",
   "execution_count": 5,
   "metadata": {},
   "outputs": [],
   "source": [
    "class Net(nn.Module):\n",
    "    def __init__(self):\n",
    "        super(Net, self).__init__()\n",
    "        #(3,96,96)\n",
    "        self.conv1 = nn.Conv2d(3, n_conv1, m_conv1, s_conv1)\n",
    "        #size (15, 46, 46)\n",
    "        self.dropout = nn.Dropout(0.25)\n",
    "        self.pool1 = nn.AvgPool2d(m_pool1,s_pool1)\n",
    "        #size(15, 43, 43)\n",
    "        self.conv2 = nn.Conv2d(n_conv1, n_conv2, m_conv2, s_conv2)\n",
    "        #size (20,20, 20 )\n",
    "        self.pool2 = nn.AvgPool2d(m_pool2, s_pool2)\n",
    "        #size (20, 9, 9)\n",
    "        self.conv3 = nn.Conv2d(n_conv2, n_conv3, m_conv3)\n",
    "        #size (30, 7, 7 )\n",
    "        self.pool3 = nn.MaxPool2d(m_pool3, s_pool3)\n",
    "        #size (30, 5, 5)\n",
    "        self.conv4 = nn.Conv2d(n_conv3, n_conv4, m_conv4)\n",
    "        #size (40, 3, 3 )\n",
    "        self.pool4 = nn.MaxPool2d(m_pool4, s_pool4)\n",
    "        #size (40, 2, 2)\n",
    "        self.fc1 = nn.Linear(n_conv4 * m_fullyconnected * m_fullyconnected,1)    \n",
    "        \n",
    "    def forward(self, x):\n",
    "        x = self.dropout(F.relu(self.conv1(x)))\n",
    "        x = self.pool1(x)\n",
    "        x = self.dropout(F.relu(self.conv2(x)))\n",
    "        x = self.pool2(x)\n",
    "        x = self.pool3(F.relu(self.conv3(x)))\n",
    "        x = self.pool4(F.relu(self.conv4(x)))\n",
    "        x = x.view(x.size(0), n_conv4 * m_fullyconnected * m_fullyconnected)\n",
    "        x = self.fc1(x)\n",
    "        return torch.sigmoid(x)\n",
    "    \n",
    "def init_weights(m):\n",
    "    if type(m) == nn.Linear:\n",
    "        torch.nn.init.xavier_uniform_(m.weight)\n",
    "        m.bias.data.fill_(1)\n",
    "    \n",
    "net=Net()\n",
    "optimizer = optim.Adam(net.parameters(), lr=l_rate)\n",
    "# create a loss function\n",
    "criterion = nn.BCELoss()"
   ]
  },
  {
   "cell_type": "markdown",
   "metadata": {},
   "source": [
    "Train:"
   ]
  },
  {
   "cell_type": "code",
   "execution_count": 6,
   "metadata": {},
   "outputs": [
    {
     "name": "stderr",
     "output_type": "stream",
     "text": [
      "C:\\Users\\Dani\\anaconda3\\envs\\tfg\\lib\\site-packages\\ipykernel_launcher.py:4: TqdmDeprecationWarning: This function will be removed in tqdm==5.0.0\n",
      "Please use `tqdm.notebook.tqdm` instead of `tqdm.tqdm_notebook`\n",
      "  after removing the cwd from sys.path.\n"
     ]
    },
    {
     "data": {
      "application/vnd.jupyter.widget-view+json": {
       "model_id": "000ca2a995c04b59926c1385738aa1fc",
       "version_major": 2,
       "version_minor": 0
      },
      "text/plain": [
       "HBox(children=(FloatProgress(value=0.0), HTML(value='')))"
      ]
     },
     "metadata": {},
     "output_type": "display_data"
    },
    {
     "name": "stdout",
     "output_type": "stream",
     "text": [
      "0.4884361713202913 0.45784204750073615 0\n",
      "0.4584821115898548 0.4565573755779493 1\n",
      "0.442951340476235 0.46505512381685127 2\n",
      "0.4239990822304662 0.40638473464819874 3\n",
      "0.410841779089313 0.3944648524505482 4\n",
      "0.40229161249485157 0.3909171224623368 5\n",
      "0.3965161992168713 0.3796256191065255 6\n",
      "0.39075306318077796 0.3850352577963416 7\n",
      "0.3861788358682413 0.3870116358814579 8\n",
      "0.3833227910273972 0.3767895158724294 9\n",
      "0.37942714753283047 0.39725067576585155 10\n",
      "0.3745297196607057 0.3708613531216782 11\n",
      "0.37265266716475887 0.3660691872553649 12\n",
      "0.3689828639371117 0.382876128420273 13\n",
      "0.3662130815034055 0.37740194733625665 14\n",
      "0.362952620991293 0.3967781517074731 15\n",
      "0.36060412302591416 0.3926121951191438 16\n",
      "0.35743959463326785 0.36437145025914136 17\n",
      "0.35648675113741657 0.35245435936548464 18\n",
      "0.35391500862973313 0.3569292207015064 19\n",
      "0.3513823403621639 0.34723870548613783 20\n",
      "0.3481181142029875 0.35257768237810966 21\n",
      "0.3441717412963846 0.35670445006252277 22\n",
      "0.344627004478272 0.33772226892863855 23\n",
      "0.3436551058527854 0.3376895345570544 24\n",
      "0.34141328394832376 0.3927912383603232 25\n",
      "0.34079258833369946 0.33790089833822917 26\n",
      "0.34040136321094755 0.3373975171990162 27\n",
      "0.33708067997259084 0.33590576724004306 28\n",
      "0.3373657136945842 0.3367498398004075 29\n",
      "0.3356232616206185 0.34869982420140017 30\n",
      "0.3352939152854763 0.36107534290067755 31\n",
      "0.33476932187259145 0.33157666247721396 32\n",
      "0.3333190072380275 0.33748114699777954 33\n",
      "0.33265729237110847 0.33447949032945495 34\n",
      "0.3328130716489089 0.3361137246904713 35\n",
      "0.3304595776312916 0.3787321491476571 36\n",
      "0.3294616485371142 0.3280912801466076 37\n",
      "0.32825278851078843 0.36331591553651876 38\n",
      "0.32900685222005255 0.33595402159366883 39\n",
      "0.3272862886314831 0.343004109097109 40\n",
      "0.3272699591441872 0.3279173634651468 41\n",
      "0.3271675419015414 0.3255006160419975 42\n",
      "0.3268127197662395 0.3300835045157762 43\n",
      "0.3264515714512931 0.3341380328156231 44\n",
      "0.32516261377478056 0.3301036466198106 45\n",
      "0.324249641938674 0.33153164586283285 46\n",
      "0.3249359594369146 0.32341564521390087 47\n",
      "0.3238304214275187 0.3267820067408846 48\n",
      "0.32409384387551565 0.3274702453853115 49\n",
      "0.32239530228211605 0.325551290586001 50\n",
      "0.32221745740708563 0.3327831724820791 51\n",
      "0.32166275654967774 0.3305302129906054 52\n",
      "0.3225035424767719 0.32680340447416406 53\n",
      "0.3219839092415035 0.3285906437322458 54\n",
      "0.32051581001480944 0.31905163438268264 55\n",
      "0.3210736333076659 0.3379865643570794 56\n",
      "0.3213048734096305 0.3206760024450385 57\n",
      "0.3191050605291986 0.3557775545776834 58\n",
      "0.31860851833710957 0.3198366267876921 59\n",
      "0.3194236439731648 0.3425426852931133 60\n",
      "0.3179761053575462 0.3268844042867815 61\n",
      "0.3173214782775322 0.3158586344394174 62\n",
      "0.3164623559053143 0.3404305409492635 63\n",
      "0.3152302905930273 0.33712036767114434 64\n",
      "0.31641736992164393 0.3201652626386576 65\n",
      "0.3147476967140198 0.3215858765968704 66\n",
      "0.31590058279615 0.3467294142967321 67\n",
      "0.31452878882845836 0.3215412929516512 68\n",
      "0.31419159049985695 0.31250872060971085 69\n",
      "0.31419313147585437 0.32023221608202185 70\n",
      "0.3134885731510047 0.32211039432553 71\n",
      "0.3127385571088977 0.31672665222221125 72\n",
      "0.31254657913066014 0.30994646874868303 73\n",
      "0.3103462872418953 0.3097859904032427 74\n",
      "0.31084006184799967 0.30683018629854464 75\n",
      "0.3111716276862009 0.3118166461842513 76\n",
      "0.31032546505668374 0.32930988394765864 77\n",
      "0.3098884128422917 0.3093218308453274 78\n",
      "0.3066217501969133 0.3269105537163 79\n",
      "0.3070379483497971 0.31293064692993905 80\n",
      "0.3048697614256534 0.3195308531022638 81\n",
      "0.3025534254067657 0.33292214988698904 82\n",
      "0.3008538061139679 0.30391976015155736 83\n",
      "0.3002340019069234 0.3072592820972204 84\n",
      "0.2971669610538412 0.30554817036030163 85\n",
      "0.2961439798722315 0.298230277251521 86\n",
      "0.2960329209526712 0.31317456401786264 87\n",
      "0.29659337316792894 0.29621768003639254 88\n",
      "0.2940740403147238 0.29293088092023906 89\n",
      "0.2932768571986433 0.3221227725314119 90\n",
      "0.294372825626949 0.30299198099640556 91\n",
      "0.29153461755851046 0.30673596591229174 92\n",
      "0.29199560939265257 0.29797287307935216 93\n",
      "0.29141439386564016 0.300837801793949 94\n",
      "0.29131143282235056 0.29196872925852724 95\n",
      "0.2894373429304071 0.2907621065218562 96\n",
      "0.29045957292759655 0.2863514026464762 97\n",
      "0.2896063557324417 0.302085957546426 98\n",
      "0.2896309926367617 0.28549431387266255 99\n",
      "\n"
     ]
    }
   ],
   "source": [
    "train_loss = []\n",
    "val_loss = []\n",
    "\n",
    "for epoch in notebook.tqdm(range(100)):\n",
    "    train = shuffle(train)\n",
    "    batch_train_loss = 0\n",
    "    for i in range(n_batch):\n",
    "        data = readimage(i, batchsize,train)\n",
    "        data = data/255\n",
    "        data = torch.Tensor(data)\n",
    "        target = torch.Tensor(train['label'][batchsize * i:batchsize * (i+1)].values)\n",
    "        data, target = Variable(data), Variable(target)\n",
    "        optimizer.zero_grad()\n",
    "        net_out = net(data)\n",
    "        loss = criterion(net_out.view(batchsize,1), target.view(batchsize,1))\n",
    "        loss.backward()\n",
    "        optimizer.step()\n",
    "        batch_train_loss += loss.item()\n",
    "    train_loss.append(batch_train_loss / n_batch)\n",
    "    batch_val_loss = 0\n",
    "    for  k in range(n_batchval):\n",
    "        data = readimage(k, batchsize, val)\n",
    "        data = data/255\n",
    "        target = torch.Tensor(val['label'][batchsize * k:batchsize * (k+1)].values)\n",
    "        data, target = Variable(data), Variable(target)\n",
    "        with torch.no_grad(): # 1) As do not want to update G \n",
    "            net_out = net(data) \n",
    "        batch_val_loss = batch_val_loss + (criterion(net_out.view(batchsize, 1), target.view(batchsize, 1)).item())\n",
    "    val_loss.append(batch_val_loss / n_batchval)\n",
    "    print(train_loss[epoch], val_loss[epoch], epoch)"
   ]
  },
  {
   "cell_type": "markdown",
   "metadata": {},
   "source": [
    "Learning curve:"
   ]
  },
  {
   "cell_type": "code",
   "execution_count": 10,
   "metadata": {},
   "outputs": [
    {
     "data": {
      "text/plain": [
       "<matplotlib.legend.Legend at 0x130845cb988>"
      ]
     },
     "execution_count": 10,
     "metadata": {},
     "output_type": "execute_result"
    },
    {
     "data": {
      "image/png": "[encoded data removed]",
      "text/plain": [
       "<Figure size 432x288 with 1 Axes>"
      ]
     },
     "metadata": {
      "needs_background": "light"
     },
     "output_type": "display_data"
    }
   ],
   "source": [
    "plt.plot(range(len(train_loss)), train_loss,label='error de entrenamiento')\n",
    "plt.plot(range(len(val_loss)), val_loss, label='error de validación')\n",
    "plt.legend(loc=\"upper right\")\n"
   ]
  },
  {
   "cell_type": "markdown",
   "metadata": {},
   "source": [
    "ROC curve:"
   ]
  },
  {
   "cell_type": "code",
   "execution_count": 8,
   "metadata": {},
   "outputs": [
    {
     "name": "stdout",
     "output_type": "stream",
     "text": [
      "AUC: 0.948\n",
      "AUC NO SKILL: 0.500\n"
     ]
    },
    {
     "data": {
      "image/png": "[encoded data removed]",
      "text/plain": [
       "<Figure size 432x288 with 1 Axes>"
      ]
     },
     "metadata": {
      "needs_background": "light"
     },
     "output_type": "display_data"
    }
   ],
   "source": [
    "n_prob = [0 for _ in range(m_val)]\n",
    "value = []\n",
    "out = []\n",
    "for  k in range(m_val):\n",
    "        data = readimage(k, 1, val)\n",
    "        data = data/255\n",
    "        target = val['label'].values[k]\n",
    "        data =  Variable(data)\n",
    "        with torch.no_grad(): # 1) As do not want to update G \n",
    "            net_out = net(data) \n",
    "        value.append(target)\n",
    "        out.append(net_out.item())\n",
    "        \n",
    "fpr1, tpr1, thresholds = roc_curve(value, out, pos_label = 1)\n",
    "fpr2, tpr2, thresholds = roc_curve(value, n_prob, pos_label = 1)\n",
    "auc1 = roc_auc_score(value, out)\n",
    "auc2 = roc_auc_score(value, n_prob)\n",
    "\n",
    "\n",
    "print('AUC: %.3f' % auc1)\n",
    "print('AUC NO SKILL: %.3f' % auc2)\n",
    "pyplot.plot(fpr2, tpr2, linestyle='--', label='No skill')\n",
    "pyplot.plot(fpr1, tpr1, marker='.', label='Neural network')\n",
    "\n",
    "pyplot.xlabel('False Positive Rate')\n",
    "pyplot.ylabel('True Positive Rate')\n",
    "\n",
    "pyplot.legend()\n",
    "\n",
    "pyplot.show()"
   ]
  },
  {
   "cell_type": "markdown",
   "metadata": {},
   "source": [
    "Examples of kernels:"
   ]
  },
  {
   "cell_type": "code",
   "execution_count": 11,
   "metadata": {},
   "outputs": [
    {
     "data": {
      "image/png": "[encoded data removed]",
      "text/plain": [
       "<Figure size 432x288 with 6 Axes>"
      ]
     },
     "metadata": {
      "needs_background": "light"
     },
     "output_type": "display_data"
    }
   ],
   "source": [
    "kernels = F.relu(net.conv1.weight.detach())\n",
    "fig, axarr = plt.subplots(2,3)\n",
    "for idx in range(2):\n",
    "    for j in range(3):\n",
    "        axarr[idx,j].imshow(kernels[idx+j].view(6,6,-1)[:,:,j],cmap='gray')"
   ]
  },
  {
   "cell_type": "markdown",
   "metadata": {},
   "source": [
    "Save in csv test values:"
   ]
  },
  {
   "cell_type": "code",
   "execution_count": 35,
   "metadata": {},
   "outputs": [],
   "source": [
    "test = pd.read_csv(\"sample_submission.csv\")\n",
    "def readtest(n_batch, n):\n",
    "    batch = []\n",
    "    for i in range(n):\n",
    "        path = \"test/\" + test.iloc[i+n*n_batch]['id']+ \".tif\"\n",
    "        img = cv2.imread(path) \n",
    "        img = cv2.cvtColor(img, cv2.COLOR_BGR2RGB)\n",
    "        batch.append(np.moveaxis(img, -1,0))\n",
    "        \n",
    "    return torch.tensor(np.array(batch)).float()"
   ]
  },
  {
   "cell_type": "code",
   "execution_count": 41,
   "metadata": {},
   "outputs": [],
   "source": [
    "preds=[]\n",
    "batchtest = 28729\n",
    "for i in range(batchtest):\n",
    "    data = readtest(i,2)\n",
    "    data = data/255\n",
    "    data =  Variable(data)\n",
    "    with torch.no_grad(): # 1) As do not want to update G \n",
    "         net_out = net(data) \n",
    "    preds.append(net_out)\n"
   ]
  },
  {
   "cell_type": "code",
   "execution_count": 79,
   "metadata": {},
   "outputs": [],
   "source": [
    "target=[]\n",
    "for i in range(batchtest):\n",
    "    target.append(preds[i][0].item())\n",
    "    target.append(preds[i][1].item())\n"
   ]
  },
  {
   "cell_type": "code",
   "execution_count": 81,
   "metadata": {},
   "outputs": [],
   "source": [
    "submission = pd.DataFrame({'id':test['id'],'label':target})\n",
    "\n",
    "submission.head()\n",
    "filename = 'prediction_test.csv'\n",
    "submission.to_csv(filename,index=False)"
   ]
  },
  {
   "cell_type": "code",
   "execution_count": 67,
   "metadata": {},
   "outputs": [
    {
     "data": {
      "text/plain": [
       "57458"
      ]
     },
     "execution_count": 67,
     "metadata": {},
     "output_type": "execute_result"
    }
   ],
   "source": [
    "len(test)"
   ]
  }
 ],
 "metadata": {
  "kernelspec": {
   "display_name": "Python 3",
   "language": "python",
   "name": "python3"
  },
  "language_info": {
   "codemirror_mode": {
    "name": "ipython",
    "version": 3
   },
   "file_extension": ".py",
   "mimetype": "text/x-python",
   "name": "python",
   "nbconvert_exporter": "python",
   "pygments_lexer": "ipython3",
   "version": "3.7.6"
  }
 },
 "nbformat": 4,
 "nbformat_minor": 4
}
