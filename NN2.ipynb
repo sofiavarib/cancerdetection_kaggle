{
 "cells": [
  {
   "cell_type": "markdown",
   "metadata": {},
   "source": [
    "# NN2"
   ]
  },
  {
   "cell_type": "markdown",
   "metadata": {},
   "source": [
    "This feed-forward neural network has two hiden layer. <br>\n",
    "First: 350 neurons. <br>\n",
    "Second: 40 neurons. <br>\n",
    "\n",
    "First, we load the packages."
   ]
  },
  {
   "cell_type": "code",
   "execution_count": 1,
   "metadata": {},
   "outputs": [],
   "source": [
    "import pandas as pd\n",
    "import numpy as np\n",
    "from PIL import Image    \n",
    "from sklearn.utils import shuffle\n",
    "import cv2\n",
    "import torch\n",
    "import torch.nn as nn\n",
    "import torch.nn.functional as F\n",
    "import torch.optim as optim\n",
    "from torch.autograd import Variable\n",
    "import matplotlib.pyplot as plt\n",
    "from sklearn.metrics import roc_auc_score\n",
    "from sklearn.metrics import roc_curve\n",
    "from matplotlib import pyplot"
   ]
  },
  {
   "cell_type": "markdown",
   "metadata": {},
   "source": [
    "Then, we divide the data in train and validation (0.9 and 0.1). Also,we define the read function. We extract the 32x32 center of the image."
   ]
  },
  {
   "cell_type": "code",
   "execution_count": 1,
   "metadata": {},
   "outputs": [],
   "source": [
    "data = pd.read_csv(\"newdata.csv\")\n",
    "data =shuffle(data)\n",
    "n = round((data.shape[0]-1)*0.9)\n",
    "\n",
    "train = data[1:n]\n",
    "val = data[n:]\n",
    "\n",
    "def readimage(n_batch, n, X):\n",
    "    batch = []\n",
    "    for i in range(n):\n",
    "        path = \"train/\" + X.iloc[i+n*n_batch]['id']+ \".tif\"\n",
    "        img = cv2.imread(path) \n",
    "        img = cv2.cvtColor(img, cv2.COLOR_BGR2RGB)[32:32+32, 32:32+32]\n",
    "        batch.append(np.moveaxis(img, -1,0))\n",
    "        \n",
    "    return torch.tensor(np.array(batch)).float()"
   ]
  },
  {
   "cell_type": "markdown",
   "metadata": {},
   "source": [
    "Hidden layer 1: 350 neurons.<br>\n",
    "Activation function: Leaky_relu. <br>\n",
    "BatchNorm. <br> <br>\n",
    "\n",
    "Hidden layer 2: 40 neurons. <br>\n",
    "Activation function: Leaky_relu. <br>\n",
    "Inizialization: Xavier-Uniform. <br>\n",
    "Output: Sigmoid of unique value. <br>\n",
    "Cost function: Binary Cross Entropy with logit loss. <br>\n",
    "Batch size: 174.<br>\n",
    "Epochs: 100. <br>\n",
    "Size of input : 3072."
   ]
  },
  {
   "cell_type": "code",
   "execution_count": 3,
   "metadata": {},
   "outputs": [
    {
     "name": "stdout",
     "output_type": "stream",
     "text": [
      "0.6394065840787393 0.6099114418029785 0\n",
      "0.6017884643012846 0.5936746597290039 1\n",
      "0.5894769080500909 0.5835911631584167 2\n",
      "0.580477843157744 0.5754969716072083 3\n",
      "0.572849871929843 0.5689783096313477 4\n",
      "0.5670751954446053 0.5638793706893921 5\n",
      "0.5625667481068046 0.5598726272583008 6\n",
      "0.5586025747638474 0.556703507900238 7\n",
      "0.5557775359302628 0.5541999340057373 8\n",
      "0.5531578038015592 0.5520708560943604 9\n",
      "0.5512749715237211 0.5503126382827759 10\n",
      "0.5493344829181044 0.5487901568412781 11\n",
      "0.547700081934715 0.5473443269729614 12\n",
      "0.5463386345245174 0.5460901856422424 13\n",
      "0.5447777908626311 0.5449615120887756 14\n",
      "0.5436098915291335 0.5439236164093018 15\n",
      "0.5424513579358526 0.5428224205970764 16\n",
      "0.5411799231326255 0.5420576333999634 17\n",
      "0.5398960763043024 0.5409544706344604 18\n",
      "0.5387802256390832 0.5400574207305908 19\n",
      "0.5379184877652291 0.5394084453582764 20\n",
      "0.5366960301300676 0.5383989810943604 21\n",
      "0.535607531077 0.5375547409057617 22\n",
      "0.5345256734072585 0.5368185639381409 23\n",
      "0.5334538315720169 0.5360597372055054 24\n",
      "0.5325392522409284 0.5352182984352112 25\n",
      "0.5314506854052699 0.5344797372817993 26\n",
      "0.5304965627696709 0.5337221026420593 27\n",
      "0.5295351385388756 0.5329458713531494 28\n",
      "0.5285035654338914 0.5323459506034851 29\n",
      "0.5274603269607642 0.5315687656402588 30\n",
      "0.5262052707747608 0.5308671593666077 31\n",
      "0.5253490667754134 0.5299379229545593 32\n",
      "0.5241260418214605 0.5292345881462097 33\n",
      "0.5233231068653502 0.5285875797271729 34\n",
      "0.5220089277208323 0.5282106995582581 35\n",
      "0.5210808427216405 0.5270131230354309 36\n",
      "0.519848032671837 0.5263465046882629 37\n",
      "0.5186722402836842 0.5255481004714966 38\n",
      "0.517569542691282 0.525033712387085 39\n",
      "0.5163804385467067 0.524229109287262 40\n",
      "0.5151254520567238 0.5234070420265198 41\n",
      "0.5140208018224494 0.5229186415672302 42\n",
      "0.5128011335745756 0.5220905542373657 43\n",
      "0.5117237605383864 0.5213581919670105 44\n",
      "0.5105273608534401 0.5206632018089294 45\n",
      "0.5090986423410652 0.5200418829917908 46\n",
      "0.5079955748538753 0.519437849521637 47\n",
      "0.506675363792698 0.5189618468284607 48\n",
      "0.5054186991986834 0.5181979537010193 49\n",
      "0.5040081155960667 0.5177506804466248 50\n",
      "0.5029575861433461 0.5169921517372131 51\n",
      "0.5016339751011254 0.5164135694503784 52\n",
      "0.5003871315387434 0.515936553478241 53\n",
      "0.49900399456447747 0.5153734087944031 54\n",
      "0.49784818834239386 0.5146587491035461 55\n",
      "0.4967013560006151 0.5143526792526245 56\n",
      "0.49517037182810436 0.5138292908668518 57\n",
      "0.4938913732111821 0.5132020115852356 58\n",
      "0.492475134506494 0.5128157138824463 59\n",
      "0.49123022230235547 0.5121698975563049 60\n",
      "0.4897991321856449 0.5124391317367554 61\n",
      "0.48837219004371024 0.5113431811332703 62\n",
      "0.4871129209049564 0.5108553767204285 63\n",
      "0.4857727034687472 0.5109975934028625 64\n",
      "0.4844163256773533 0.5100890398025513 65\n",
      "0.48273002189193365 0.5095946192741394 66\n",
      "0.4814093910557404 0.5091594457626343 67\n",
      "0.47999778277221855 0.5089859366416931 68\n",
      "0.47868429141392704 0.5083692669868469 69\n",
      "0.47690749448857606 0.5081291198730469 70\n",
      "0.4755463900016711 0.5078622698783875 71\n",
      "0.47407247190320295 0.5077677965164185 72\n",
      "0.47250878910485755 0.5071475505828857 73\n",
      "0.4705840183279445 0.506766140460968 74\n",
      "0.4692093701664565 0.5077629685401917 75\n",
      "0.46772203119365185 0.5063984394073486 76\n",
      "0.4661836706449195 0.5062494277954102 77\n",
      "0.4647834608454188 0.5060284733772278 78\n",
      "0.46280030855088244 0.5072712302207947 79\n",
      "0.4611353222329887 0.5057563185691833 80\n",
      "0.45956427270420414 0.5055259466171265 81\n",
      "0.4577548372032565 0.5053176879882812 82\n",
      "0.4560369367178009 0.507088840007782 83\n",
      "0.4543413559962703 0.5053157806396484 84\n",
      "0.4524835357565364 0.5052013993263245 85\n",
      "0.4510494384623035 0.5055307149887085 86\n",
      "0.4489494578137981 0.5053992867469788 87\n",
      "0.44734705362072513 0.5052735209465027 88\n",
      "0.44489199177361205 0.5054172873497009 89\n",
      "0.443649585900227 0.5052506923675537 90\n",
      "0.44127118941347326 0.5054346323013306 91\n",
      "0.43942459025923997 0.5071837306022644 92\n",
      "0.43762173831934664 0.5061438679695129 93\n",
      "0.4354722660785195 0.506373941898346 94\n",
      "0.4337379841974354 0.5060511231422424 95\n",
      "0.431501167666629 0.5078380703926086 96\n",
      "0.42958708509815924 0.5071080923080444 97\n",
      "0.4276121332651707 0.5069512724876404 98\n",
      "0.42511172006815906 0.5073493719100952 99\n"
     ]
    }
   ],
   "source": [
    "n_n1 = 350\n",
    "n_n2 = 40\n",
    "n_batch = 174\n",
    "n_size = 3072\n",
    "n_val = val.shape[0]\n",
    "it = round(train.shape[0]/n_batch)\n",
    "max_value = 255\n",
    "\n",
    "class Net(nn.Module):\n",
    "    def __init__(self):\n",
    "        super(Net, self).__init__()\n",
    "        self.fc1 = nn.Linear(n_size, n_n1, bias=True)\n",
    "        self.batch=nn.BatchNorm1d(n_n1)\n",
    "        self.fc2 = nn.Linear(n_n1,n_n2, bias=True)\n",
    "        self.fc3=nn.Linear(n_n2, 1, bias=True)\n",
    "        \n",
    "    def forward(self, x):\n",
    "        x = F.leaky_relu(self.batch(self.fc1(x)))\n",
    "        x = F.leaky_relu(self.fc2(x))\n",
    "        x = self.fc3(x)\n",
    "        return torch.sigmoid(x)\n",
    "    \n",
    "def init_weights(m):\n",
    "        if type(m) == nn.Linear:\n",
    "            torch.nn.init.xavier_uniform_(m.weight)\n",
    "            m.bias.data.fill_(1)\n",
    "    \n",
    "net=Net()\n",
    "optimizer = optim.SGD(net.parameters(), lr=0.0001, momentum=0.8)\n",
    "# create a loss function\n",
    "criterion = nn.BCELoss()\n",
    "\n",
    "l=[]\n",
    "val_loss=[]\n",
    "for epoch in range(100):\n",
    "    train=shuffle(train)\n",
    "    z=0\n",
    "    for i in range(it):\n",
    "        data=readimage(i, n_batch, train)\n",
    "        data = data/max_value\n",
    "        data=np.reshape(data, (n_batch, n_size))\n",
    "        data = torch.Tensor(data)\n",
    "        target = torch.Tensor(train['label'][n_batch*i:n_batch*(i+1)].values)\n",
    "        data, target = Variable(data), Variable(target)\n",
    "        optimizer.zero_grad()\n",
    "        net_out = net(data)\n",
    "        loss = criterion(net_out.view(n_batch,1), target.view(n_batch,1))\n",
    "        loss.backward()\n",
    "        optimizer.step()\n",
    "        z+=loss.item()\n",
    "    l.append(z/it)\n",
    "    data = readimageval(0,n_val, val)\n",
    "    data = data/max_value\n",
    "    data=torch.Tensor(np.reshape(data, (n_val, n_size)))\n",
    "    target = torch.Tensor(val['label'].values)\n",
    "    data, target = Variable(data), Variable(target)\n",
    "    with torch.no_grad(): # 1) As do not want to update G \n",
    "         net_out = net(data) \n",
    "    val_loss.append( criterion(net_out.view(21983,1), target.view(n_val,1)).item())\n",
    "    print(l[epoch], val_loss[epoch], epoch)"
   ]
  },
  {
   "cell_type": "markdown",
   "metadata": {},
   "source": [
    "Learning curve."
   ]
  },
  {
   "cell_type": "code",
   "execution_count": 11,
   "metadata": {},
   "outputs": [
    {
     "data": {
      "text/plain": [
       "<matplotlib.legend.Legend at 0x1e0040ef0c8>"
      ]
     },
     "execution_count": 11,
     "metadata": {},
     "output_type": "execute_result"
    },
    {
     "data": {
      "image/png": "[encoded data removed]",
      "text/plain": [
       "<Figure size 432x288 with 1 Axes>"
      ]
     },
     "metadata": {
      "needs_background": "light"
     },
     "output_type": "display_data"
    }
   ],
   "source": [
    "\n",
    "plt.plot(range(len(l)), l,label='error de entrenamiento')\n",
    "plt.plot(range(len(l)), val_loss, label='error de validación')\n",
    "plt.legend(loc=\"upper right\")\n",
    "plt.xlabel()"
   ]
  },
  {
   "cell_type": "markdown",
   "metadata": {},
   "source": [
    "ROC curve."
   ]
  },
  {
   "cell_type": "code",
   "execution_count": 6,
   "metadata": {
    "scrolled": true
   },
   "outputs": [
    {
     "name": "stdout",
     "output_type": "stream",
     "text": [
      "AUC: 0.823\n",
      "AUC NO SKILL: 0.500\n"
     ]
    },
    {
     "data": {
      "image/png": "[encoded data removed]",
      "text/plain": [
       "<Figure size 432x288 with 1 Axes>"
      ]
     },
     "metadata": {
      "needs_background": "light"
     },
     "output_type": "display_data"
    }
   ],
   "source": [
    "data=readimage(n_val )\n",
    "data=data/max_value\n",
    "data=np.reshape(data, (n_val ,n_size))\n",
    "data = torch.Tensor(data.float())\n",
    "target = val['label'].values\n",
    "data=Variable(data)\n",
    "with torch.no_grad(): # 1) As do not want to update G \n",
    "    net_out = torch.sigmoid(net(data) )\n",
    "\n",
    "n_prob = [0 for _ in range(len(target))]\n",
    "\n",
    "\n",
    "fpr1, tpr1, thresholds = roc_curve(target, net_out, pos_label = 1)\n",
    "fpr2, tpr2, thresholds = roc_curve(target, n_prob, pos_label = 1)\n",
    "auc1 = roc_auc_score(target, net_out)\n",
    "auc2 = roc_auc_score(target, n_prob)\n",
    "print('AUC: %.3f' % auc1)\n",
    "print('AUC NO SKILL: %.3f' % auc2)\n",
    "pyplot.plot(fpr2, tpr2, linestyle='--', label='No skill')\n",
    "pyplot.plot(fpr1, tpr1, marker='.', label='Neural network')\n",
    "\n",
    "pyplot.xlabel('False Positive Rate')\n",
    "pyplot.ylabel('True Positive Rate')\n",
    "\n",
    "pyplot.legend()\n",
    "\n",
    "pyplot.show()\n",
    "    "
   ]
  }
 ],
 "metadata": {
  "kernelspec": {
   "display_name": "Python 3",
   "language": "python",
   "name": "python3"
  },
  "language_info": {
   "codemirror_mode": {
    "name": "ipython",
    "version": 3
   },
   "file_extension": ".py",
   "mimetype": "text/x-python",
   "name": "python",
   "nbconvert_exporter": "python",
   "pygments_lexer": "ipython3",
   "version": "3.7.6"
  }
 },
 "nbformat": 4,
 "nbformat_minor": 4
}
