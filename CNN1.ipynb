{
 "cells": [
  {
   "cell_type": "markdown",
   "metadata": {},
   "source": [
    "#  CNN1\n"
   ]
  },
  {
   "cell_type": "markdown",
   "metadata": {},
   "source": [
    "Convolutional neuronal network with three conv layers.\n",
    "\n",
    "First, we load the packages.\n",
    "\n"
   ]
  },
  {
   "cell_type": "code",
   "execution_count": 1,
   "metadata": {},
   "outputs": [],
   "source": [
    "import pandas as pd\n",
    "import numpy as np\n",
    "from PIL import Image    \n",
    "from sklearn.utils import shuffle\n",
    "import cv2\n",
    "import torch\n",
    "import torch.nn as nn\n",
    "import torch.nn.functional as F\n",
    "import torch.optim as optim\n",
    "from torch.autograd import Variable\n",
    "import matplotlib.pyplot as plt\n",
    "\n",
    "from sklearn.metrics import roc_auc_score\n",
    "from sklearn.metrics import roc_curve\n",
    "from matplotlib import pyplot\n",
    "\n",
    "from tqdm import tqdm_notebook"
   ]
  },
  {
   "cell_type": "markdown",
   "metadata": {},
   "source": [
    "Then, we divide the data in train and validation (0.9 and 0.1). Also,we define the read function."
   ]
  },
  {
   "cell_type": "code",
   "execution_count": null,
   "metadata": {},
   "outputs": [],
   "source": [
    "data = pd.read_csv(\"newdata.csv\")\n",
    "data = shuffle(data)\n",
    "m = len(data)\n",
    "\n",
    "train = data[1:int(m*0.9)]\n",
    "val = data[(int(m*0.9) + 1):]\n",
    "\n",
    "m_train = len(train)\n",
    "m_val = len(val)\n",
    "\n",
    "path = \"train/\" + train.iloc[1][1]+ \".tif\"\n",
    "img = cv2.imread(path) \n",
    "h_s = np.shape(img)[0]\n",
    "v_s = np.shape(img)[1]\n",
    "n_c = np.shape(img)[2]\n",
    "def readimage(n_batch, n, X):\n",
    "    batch = []\n",
    "    for i in range(n):\n",
    "        path = \"train/\" + X.iloc[i+n*n_batch]['id']+ \".tif\"\n",
    "        img = cv2.imread(path) \n",
    "        img = cv2.cvtColor(img, cv2.COLOR_BGR2RGB)\n",
    "        batch.append(np.moveaxis(img, -1,0))\n",
    "        \n",
    "    return torch.tensor(np.array(batch)).float()"
   ]
  },
  {
   "cell_type": "markdown",
   "metadata": {},
   "source": [
    "Bath size: 29. <br>\n",
    "Kernels_i: (m_conv_i,m_conv_i,c_conv_i). <br>\n",
    "Stride of kernel: 1. <br>\n",
    "Pool layer: Max. "
   ]
  },
  {
   "cell_type": "code",
   "execution_count": 30,
   "metadata": {},
   "outputs": [],
   "source": [
    "batchsize = 29\n",
    "n_batch = int(m_train / batchsize)\n",
    "\n",
    "n_batchval = int(m_val / batchsize)\n",
    "batchsize = 29\n",
    "n_batch = int(m_train / batchsize)\n",
    "\n",
    "n_batchval = int(m_val / batchsize)\n",
    "\n",
    "m_conv1 = 7\n",
    "n_conv1 = 15\n",
    "s_conv1 = 1\n",
    "\n",
    "m_pool1 = 4\n",
    "s_pool1 = 2\n",
    "\n",
    "m_conv2 = 5\n",
    "n_conv2 = 20\n",
    "s_conv2 = 1\n",
    "\n",
    "m_pool2 = 4\n",
    "s_pool2 = 2\n",
    "\n",
    "m_conv3 = 3\n",
    "n_conv3 = 30\n",
    "\n",
    "m_pool3 = 2\n",
    "s_pool3 = 2\n",
    "\n",
    "\n",
    "m_fullyconnected = 8\n",
    "\n",
    "l_rate = 0.001\n",
    "mom = 0.8\n"
   ]
  },
  {
   "cell_type": "markdown",
   "metadata": {},
   "source": [
    "Model and train"
   ]
  },
  {
   "cell_type": "code",
   "execution_count": null,
   "metadata": {},
   "outputs": [],
   "source": [
    "class Net(nn.Module):\n",
    "    def __init__(self):\n",
    "        super(Net, self).__init__()\n",
    "        #(3,96,96)\n",
    "        self.conv1 = nn.Conv2d(3, n_conv1, m_conv1, s_conv1)\n",
    "        #size (15, 90, 90)\n",
    "        self.pool1 = nn.MaxPool2d(m_pool1,s_pool1)\n",
    "        #size(15, 44, 44)\n",
    "        self.conv2 = nn.Conv2d(n_conv1, n_conv2, m_conv2, s_conv2)\n",
    "        #size (20,40, 40 )\n",
    "        self.pool2 = nn.MaxPool2d(m_pool2, s_pool2)\n",
    "        #size (20, 18, 18)\n",
    "        self.conv3 = nn.Conv2d(n_conv2, n_conv3, m_conv3)\n",
    "        #size (30,16, 16 )\n",
    "        self.pool3 = nn.MaxPool2d(m_pool3, s_pool3)\n",
    "        #size (30, 8, 8)\n",
    "        self.fc1 = nn.Linear(n_conv3 * m_fullyconnected * m_fullyconnected,1)\n",
    "        \n",
    "    def forward(self, x):\n",
    "        x = F.relu(self.conv1(x))\n",
    "        x = self.pool1(x)\n",
    "        x = self.pool2(F.relu(self.conv2(x)))\n",
    "        x = self.pool3(F.relu(self.conv3(x)))\n",
    "        x = x.view(x.size(0),n_conv3 * m_fullyconnected * m_fullyconnected)\n",
    "        x = self.fc1(x)\n",
    "        return torch.sigmoid(x)\n",
    "    \n",
    "def init_weights(m):\n",
    "        if type(m) == nn.Linear:\n",
    "            torch.nn.init.xavier_uniform_(m.weight)\n",
    "            m.bias.data.fill_(1)\n",
    "    \n",
    "net=Net()\n",
    "optimizer = optim.SGD(net.parameters(), lr=l_rate, momentum=mom)\n",
    "# create a loss function\n",
    "criterion = nn.BCELoss()\n",
    "\n",
    "train_loss = []\n",
    "val_loss = []\n",
    "\n",
    "for epoch in notebook.tqdm(range(100)):\n",
    "    train = shuffle(train)\n",
    "    batch_train_loss = 0\n",
    "    for i in range(n_batch):\n",
    "        data = readimage(i, batchsize,train)\n",
    "        data = data/255\n",
    "        data = torch.Tensor(data)\n",
    "        target = torch.Tensor(train['label'][batchsize * i:batchsize * (i+1)].values)\n",
    "        data, target = Variable(data), Variable(target)\n",
    "        optimizer.zero_grad()\n",
    "        net_out = net(data)\n",
    "        loss = criterion(net_out.view(batchsize,1), target.view(batchsize,1))\n",
    "        loss.backward()\n",
    "        optimizer.step()\n",
    "        batch_train_loss += loss.item()\n",
    "    train_loss.append(batch_train_loss / n_batch)\n",
    "    batch_val_loss = 0\n",
    "    for  k in range(n_batchval):\n",
    "        data = readimage(k, batchsize, val)\n",
    "        data = data/255\n",
    "        target = torch.Tensor(val['label'][batchsize * k:batchsize * (k+1)].values)\n",
    "        data, target = Variable(data), Variable(target)\n",
    "        with torch.no_grad(): # 1) As do not want to update G \n",
    "            net_out = net(data) \n",
    "        batch_val_loss = batch_val_loss + (criterion(net_out.view(batchsize, 1), target.view(batchsize, 1)).item())\n",
    "    val_loss.append(batch_val_loss / n_batchval)\n",
    "    print(train_loss[epoch], val_loss[epoch], epoch)"
   ]
  },
  {
   "cell_type": "markdown",
   "metadata": {},
   "source": [
    "Learning curve:"
   ]
  },
  {
   "cell_type": "code",
   "execution_count": 32,
   "metadata": {},
   "outputs": [
    {
     "data": {
      "text/plain": [
       "<matplotlib.legend.Legend at 0x2ac834d7348>"
      ]
     },
     "execution_count": 32,
     "metadata": {},
     "output_type": "execute_result"
    },
    {
     "data": {
      "image/png": "[encoded data removed]",
      "text/plain": [
       "<Figure size 432x288 with 1 Axes>"
      ]
     },
     "metadata": {
      "needs_background": "light"
     },
     "output_type": "display_data"
    }
   ],
   "source": [
    "\n",
    "plt.plot(range(len(l)), l,label='error de entrenamiento')\n",
    "plt.plot(range(len(l)), val_loss, label='error de validación')\n",
    "plt.legend(loc=\"upper right\")\n"
   ]
  },
  {
   "cell_type": "markdown",
   "metadata": {},
   "source": [
    "ROC curve:\n",
    "       \n",
    "        "
   ]
  },
  {
   "cell_type": "code",
   "execution_count": 69,
   "metadata": {},
   "outputs": [
    {
     "name": "stdout",
     "output_type": "stream",
     "text": [
      "AUC: 0.930\n",
      "AUC NO SKILL: 0.500\n"
     ]
    },
    {
     "data": {
      "image/png": "[encoded data removed]",
      "text/plain": [
       "<Figure size 432x288 with 1 Axes>"
      ]
     },
     "metadata": {
      "needs_background": "light"
     },
     "output_type": "display_data"
    }
   ],
   "source": [
    "n_prob = [0 for _ in range(val_size)]\n",
    "value = []\n",
    "out = []\n",
    "for  k in range(val_size):\n",
    "        data = Readimageval(k,1)\n",
    "        data = data/255\n",
    "        target = val['label'].values[k]\n",
    "        data =  Variable(data)\n",
    "        with torch.no_grad(): # 1) As do not want to update G \n",
    "            net_out = net(data) \n",
    "        value.append(target)\n",
    "        out.append(net_out.item())\n",
    "\n",
    "fpr1, tpr1, thresholds = roc_curve(value, out, pos_label = 1)\n",
    "fpr2, tpr2, thresholds = roc_curve(value, n_prob, pos_label = 1)\n",
    "auc1 = roc_auc_score(value, out)\n",
    "auc2 = roc_auc_score(value, n_prob)\n",
    "\n",
    "\n",
    "print('AUC: %.3f' % auc1)\n",
    "print('AUC NO SKILL: %.3f' % auc2)\n",
    "pyplot.plot(fpr2, tpr2, linestyle='--', label='No skill')\n",
    "pyplot.plot(fpr1, tpr1, marker='.', label='Neural network')\n",
    "\n",
    "pyplot.xlabel('False Positive Rate')\n",
    "pyplot.ylabel('True Positive Rate')\n",
    "\n",
    "pyplot.legend()\n",
    "\n",
    "pyplot.show()"
   ]
  },
  {
   "cell_type": "markdown",
   "metadata": {},
   "source": [
    "Example of kernels:"
   ]
  },
  {
   "cell_type": "code",
   "execution_count": 107,
   "metadata": {},
   "outputs": [
    {
     "data": {
      "image/png": "[encoded data removed]",
      "text/plain": [
       "<Figure size 432x288 with 6 Axes>"
      ]
     },
     "metadata": {
      "needs_background": "light"
     },
     "output_type": "display_data"
    }
   ],
   "source": [
    "kernels = F.relu(net.conv1.weight.detach())\n",
    "fig, axarr = plt.subplots(2,3)\n",
    "for idx in range(2):\n",
    "    for j in range(3):\n",
    "        axarr[idx,j].imshow(kernels[idx+j].view(7,7,-1))"
   ]
  }
 ],
 "metadata": {
  "kernelspec": {
   "display_name": "Python 3",
   "language": "python",
   "name": "python3"
  },
  "language_info": {
   "codemirror_mode": {
    "name": "ipython",
    "version": 3
   },
   "file_extension": ".py",
   "mimetype": "text/x-python",
   "name": "python",
   "nbconvert_exporter": "python",
   "pygments_lexer": "ipython3",
   "version": "3.7.6"
  }
 },
 "nbformat": 4,
 "nbformat_minor": 4
}
