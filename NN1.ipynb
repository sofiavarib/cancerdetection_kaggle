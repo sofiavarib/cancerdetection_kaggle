{
 "cells": [
  {
   "cell_type": "markdown",
   "metadata": {},
   "source": [
    "# NN1"
   ]
  },
  {
   "cell_type": "markdown",
   "metadata": {},
   "source": [
    "This feed-forward neural network has a unique hidden layer with 350 neurons.\n",
    "\n",
    "First, we load the packages.\n"
   ]
  },
  {
   "cell_type": "code",
   "execution_count": 2,
   "metadata": {},
   "outputs": [],
   "source": [
    "import pandas as pd\n",
    "import numpy as np\n",
    "from PIL import Image    \n",
    "from sklearn.utils import shuffle\n",
    "import cv2\n",
    "import torch\n",
    "import torch.nn as nn\n",
    "import torch.nn.functional as F\n",
    "import torch.optim as optim\n",
    "from torch.autograd import Variable\n",
    "import matplotlib.pyplot as plt\n",
    "from sklearn.metrics import roc_auc_score\n",
    "from sklearn.metrics import roc_curve\n",
    "from matplotlib import pyplot"
   ]
  },
  {
   "cell_type": "markdown",
   "metadata": {},
   "source": [
    "Then, we divide the data in train and validation (0.9 and 0.1). Also,we define the read function. We extract the 32x32 center of the image."
   ]
  },
  {
   "cell_type": "code",
   "execution_count": 25,
   "metadata": {},
   "outputs": [],
   "source": [
    "\n",
    "data = pd.read_csv(\"newdata.csv\")\n",
    "data =shuffle(data)\n",
    "n = round((data.shape[0]-1)*0.9)\n",
    "\n",
    "train = data[1:n]\n",
    "val = data[n:]\n",
    "\n",
    "def readimage(n_batch, n, X):\n",
    "    batch = []\n",
    "    for i in range(n):\n",
    "        path = \"train/\" + X.iloc[i+n*n_batch]['id']+ \".tif\"\n",
    "        img = cv2.imread(path) \n",
    "        img = cv2.cvtColor(img, cv2.COLOR_BGR2RGB)[32:32+32, 32:32+32]\n",
    "        batch.append(np.moveaxis(img, -1,0))\n",
    "        \n",
    "    return torch.tensor(np.array(batch)).float()"
   ]
  },
  {
   "cell_type": "markdown",
   "metadata": {},
   "source": [
    "Hidden layer: 350 neurons.<br>\n",
    "Activation function: Leaky_relu. <br>\n",
    "Inizialization: Xavier-Uniform. <br>\n",
    "Output: Sigmoid of unique value. <br>\n",
    "Cost function: Binary Cross Entropy with logit loss. <br>\n",
    "Batch size: 174.<br>\n",
    "Epochs: 100. <br>\n",
    "Size of input : 3072."
   ]
  },
  {
   "cell_type": "code",
   "execution_count": null,
   "metadata": {},
   "outputs": [],
   "source": [
    "n_n = 350\n",
    "n_batch = 174\n",
    "n_size = 3072\n",
    "n_val = val.shape[0]\n",
    "it = round(train.shape[0]/n_batch)\n",
    "max_value = 255\n",
    "\n",
    "class Net(nn.Module):\n",
    "    def __init__(self):\n",
    "        super(Net, self).__init__()\n",
    "        self.fc1 = nn.Linear(n_size,n_n, bias=True)\n",
    "        self.batch=nn.BatchNorm1d(n_n)\n",
    "        self.fc2 = nn.Linear(n_n,1, bias=True)\n",
    "        \n",
    "    def forward(self, x):\n",
    "        x = F.leaky_relu(self.batch(self.fc1(x)))\n",
    "        x = self.fc2(x)\n",
    "        return torch.sigmoid(x)\n",
    "    \n",
    "def init_weights(m):\n",
    "        if type(m) == nn.Linear:\n",
    "            torch.nn.init.xavier_uniform_(m.weight)\n",
    "            m.bias.data.fill_(1)\n",
    "    \n",
    "net=Net()\n",
    "net.apply(init_weights)\n",
    "optimizer = optim.SGD(net.parameters(), lr=0.0001, momentum=0.8)\n",
    "criterion = nn.BCELoss()\n",
    "\n",
    "\n",
    "l=[]\n",
    "val_loss=[]\n",
    "for epoch in range(100):\n",
    "    train=shuffle(train)\n",
    "    z=0\n",
    "    for i in range(it):\n",
    "        data=readimage(i, n_batch, train)\n",
    "        data = data/max_value\n",
    "        data=np.reshape(data, (n_batch, n_size))\n",
    "        data = torch.Tensor(data)\n",
    "        target = torch.Tensor(train['label'][n_batch*i:n_batch*(i+1)].values)\n",
    "        data, target = Variable(data), Variable(target)\n",
    "        optimizer.zero_grad()\n",
    "        net_out = net(data)\n",
    "        loss = criterion(net_out.view(n_batch,1), target.view(n_batch,1))\n",
    "        loss.backward()\n",
    "        optimizer.step()\n",
    "        z += loss.item()\n",
    "    l.append(z/it)\n",
    "    \n",
    "    #Validation error\n",
    "    data = readimageval(0,n_val, val)\n",
    "    data = data/max_value\n",
    "    data = torch.Tensor(np.reshape(data, (n_val, n_size)))\n",
    "    target = torch.Tensor(val['label'].values)\n",
    "    data, target = Variable(data), Variable(target)\n",
    "    with torch.no_grad(): # 1) As do not want to update G \n",
    "         net_out = net(data) \n",
    "    val_loss.append( criterion(net_out.view(n_val,1), target.view(n_val,1)).item())\n",
    "    print(l[epoch], val_loss[epoch], epoch)"
   ]
  },
  {
   "cell_type": "markdown",
   "metadata": {},
   "source": [
    "We plot the learning curve."
   ]
  },
  {
   "cell_type": "code",
   "execution_count": 27,
   "metadata": {},
   "outputs": [
    {
     "data": {
      "text/plain": [
       "[<matplotlib.lines.Line2D at 0x1f8843bc7c8>,\n",
       " <matplotlib.lines.Line2D at 0x1f8ac7ed388>]"
      ]
     },
     "execution_count": 27,
     "metadata": {},
     "output_type": "execute_result"
    },
    {
     "data": {
      "image/png": "[encoded data removed]",
      "text/plain": [
       "<Figure size 432x288 with 1 Axes>"
      ]
     },
     "metadata": {
      "needs_background": "light"
     },
     "output_type": "display_data"
    }
   ],
   "source": [
    "plt.plot(range(len(l)), l, range(len(l)), val_loss)"
   ]
  },
  {
   "cell_type": "markdown",
   "metadata": {},
   "source": [
    "We plot the ROC curve."
   ]
  },
  {
   "cell_type": "code",
   "execution_count": 29,
   "metadata": {},
   "outputs": [
    {
     "name": "stdout",
     "output_type": "stream",
     "text": [
      "AUC: 0.821\n",
      "AUC NO SKILL: 0.500\n"
     ]
    },
    {
     "data": {
      "image/png": "[encoded data removed]",
      "text/plain": [
       "<Figure size 432x288 with 1 Axes>"
      ]
     },
     "metadata": {
      "needs_background": "light"
     },
     "output_type": "display_data"
    }
   ],
   "source": [
    "\n",
    "\n",
    "data=readimage(n_val )\n",
    "data=data/max_value\n",
    "data=np.reshape(data, (n_val ,n_size))\n",
    "data = torch.Tensor(data.float())\n",
    "target = val['label'].values\n",
    "data=Variable(data)\n",
    "with torch.no_grad(): # 1) As do not want to update G \n",
    "    net_out = torch.sigmoid(net(data) )\n",
    "n_prob = [0 for _ in range(len(target))]\n",
    "\n",
    "\n",
    "fpr1, tpr1, thresholds = roc_curve(target, net_out, pos_label = 1)\n",
    "fpr2, tpr2, thresholds = roc_curve(target, n_prob, pos_label = 1)\n",
    "auc1 = roc_auc_score(target, net_out)\n",
    "auc2 = roc_auc_score(target, n_prob)\n",
    "print('AUC: %.3f' % auc1)\n",
    "print('AUC NO SKILL: %.3f' % auc2)\n",
    "pyplot.plot(fpr2, tpr2, linestyle='--', label='No skill')\n",
    "pyplot.plot(fpr1, tpr1, marker='.', label='Neural network')\n",
    "\n",
    "pyplot.xlabel('False Positive Rate')\n",
    "pyplot.ylabel('True Positive Rate')\n",
    "\n",
    "pyplot.legend()\n",
    "\n",
    "pyplot.show()"
   ]
  }
 ],
 "metadata": {
  "kernelspec": {
   "display_name": "Python 3",
   "language": "python",
   "name": "python3"
  },
  "language_info": {
   "codemirror_mode": {
    "name": "ipython",
    "version": 3
   },
   "file_extension": ".py",
   "mimetype": "text/x-python",
   "name": "python",
   "nbconvert_exporter": "python",
   "pygments_lexer": "ipython3",
   "version": "3.7.6"
  }
 },
 "nbformat": 4,
 "nbformat_minor": 4
}
